{
 "cells": [
  {
   "cell_type": "code",
   "execution_count": null,
   "id": "initial_id",
   "metadata": {
    "collapsed": true
   },
   "outputs": [],
   "source": []
  },
  {
   "cell_type": "markdown",
   "source": [
    "# Exploring US ETFs with EOD Historical Data API\n",
    "This notebook demonstrates how to use the EOD Historical Data API to list US ETFs, showcasing how to work with APIs in Python using the `requests` library."
   ],
   "metadata": {
    "collapsed": false
   },
   "id": "1404d6d9b2c9db38"
  },
  {
   "cell_type": "code",
   "execution_count": null,
   "outputs": [],
   "source": [
    "import requests"
   ],
   "metadata": {
    "collapsed": false
   },
   "id": "c02f58465f964416"
  },
  {
   "cell_type": "markdown",
   "source": [
    "## API Token and URL Setup\n",
    "Replace `'YOUR FREE API TOKEN HERE'` with your actual API token."
   ],
   "metadata": {
    "collapsed": false
   },
   "id": "ca31e28eaa0303a4"
  },
  {
   "cell_type": "code",
   "execution_count": null,
   "outputs": [],
   "source": [
    "api_token = '65d612473903b5.37465095'\n",
    "EXCHANGE_CODE = 'US'\n",
    "url = f'https://eodhd.com/api/exchange-symbol-list/{EXCHANGE_CODE}?api_token={api_token}&fmt=json&type=etf'"
   ],
   "metadata": {
    "collapsed": false
   },
   "id": "eb78b447f49732b1"
  },
  {
   "cell_type": "markdown",
   "source": [
    "## Making the API Request\n",
    "We use the `requests` library to make a GET request to the API and handle potential errors."
   ],
   "metadata": {
    "collapsed": false
   },
   "id": "ac0994a14a25490f"
  },
  {
   "cell_type": "code",
   "execution_count": null,
   "outputs": [],
   "source": [
    "try:\n",
    "    response = requests.get(url)\n",
    "    response.raise_for_status()  # This will raise an exception for HTTP error codes\n",
    "    data = response.json()  # Convert response to JSON\n",
    "except requests.exceptions.HTTPError as http_err:\n",
    "    print(f'HTTP error occurred: {http_err}')\n",
    "except requests.exceptions.RequestException as err:\n",
    "    print(f'Other error occurred: {err}')\n",
    "except Exception as e:\n",
    "    print(f'An error occurred: {e}')"
   ],
   "metadata": {
    "collapsed": false
   },
   "id": "b26dc31c6e8ead38"
  },
  {
   "cell_type": "markdown",
   "source": [
    "## Processing and Displaying the Data\n",
    "Here, we process the JSON response to extract and print the code and name of each ETF."
   ],
   "metadata": {
    "collapsed": false
   },
   "id": "f2ab68f987a866c6"
  },
  {
   "cell_type": "code",
   "execution_count": null,
   "outputs": [],
   "source": [
    "try:\n",
    "    # Only list CODE and NAME\n",
    "    for etf in data:\n",
    "        code = etf.get('Code')  # Adjust the key if necessary\n",
    "        name = etf.get('Name')  # Adjust the key if necessary\n",
    "        print(f'Code: {code}, Name: {name}')\n",
    "\n",
    "    # Print total number of ETFs found\n",
    "    print(f'{len(data)} ETFs found')\n",
    "except NameError:\n",
    "    print('Data not loaded properly, ensure your API token is correct and you have run the previous cells.')"
   ],
   "metadata": {
    "collapsed": false
   },
   "id": "159f66ebbc567677"
  },
  {
   "cell_type": "markdown",
   "source": [
    "This notebook provides a basic framework for interacting with APIs using Python. To run this notebook successfully, ensure you have a valid API token from EOD Historical Data."
   ],
   "metadata": {
    "collapsed": false
   },
   "id": "f8e7844de414f271"
  }
 ],
 "metadata": {
  "kernelspec": {
   "display_name": "Python 3",
   "language": "python",
   "name": "python3"
  },
  "language_info": {
   "codemirror_mode": {
    "name": "ipython",
    "version": 2
   },
   "file_extension": ".py",
   "mimetype": "text/x-python",
   "name": "python",
   "nbconvert_exporter": "python",
   "pygments_lexer": "ipython2",
   "version": "2.7.6"
  }
 },
 "nbformat": 4,
 "nbformat_minor": 5
}
